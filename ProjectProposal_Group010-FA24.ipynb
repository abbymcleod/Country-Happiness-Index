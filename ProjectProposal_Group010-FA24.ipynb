{
 "cells": [
  {
   "cell_type": "markdown",
   "metadata": {},
   "source": [
    "# COGS 108 - Project Proposal"
   ]
  },
  {
   "cell_type": "markdown",
   "metadata": {},
   "source": [
    "# Names\n",
    "\n",
    "- Zoe Gaidmore\n",
    "- Abigail McLeod\n",
    "- Eshaan Sharma\n",
    "- Ryan Tjenalooi\n",
    "- Nora Zajzon"
   ]
  },
  {
   "cell_type": "markdown",
   "metadata": {},
   "source": [
    "# Research Question"
   ]
  },
  {
   "cell_type": "markdown",
   "metadata": {},
   "source": [
    "Our research question is: Is there a correlation between percent urban population of countries and thier hapiness level index? Also what other trends can correlate to country hapiness like GDP, types of government, and average life expectany in years."
   ]
  },
  {
   "cell_type": "markdown",
   "metadata": {},
   "source": [
    "## Background and Prior Work"
   ]
  },
  {
   "cell_type": "markdown",
   "metadata": {},
   "source": [
    "\n",
    "This is partly evident in the urbanization-happiness relationship whereby more of the population increasingly moves to urban areas. According to the *World Happiness Report 2020*, urban populations have expanded from 30% of the global population in 1950 to 55% by 2018, with projections suggesting this trend will continue towards 68% by 2050.<a name=\"cite_ref-1\"></a>[<sup>1</sup>](#cite_note-1) This shift raises questions about the impacts of urbanization on well-being, particularly whether urban or rural residents report higher levels of happiness and which socio-economic factors might contribute to these differences.\n",
    "\n",
    "Earlier work in the *World Happiness Report* explored the \"urban paradox,\" wherein cities in advanced countries-their economic and cultural attractions notwithstanding-record lower average happiness relative to countryside areas because of factors such as high living costs, pollution, and social isolation. <a name=\"cite_ref-1\"></a>[<sup>1</sup>](#cite_note-1)  Findings from the report indicate that indeed, in many countries, happiness levels are higher in urban areas, but this trend is nuanced. For example, a comparison in the level of happiness between urban and rural populations in poorer regions, such as Sub-Saharan Africa, indicates higher levels of happiness among urban dwellers due to increased job opportunities and more service and infrastructural provisions, while some Western countries tend to show higher well-being indicators in rural areas due to less stress and closer communal bonding. 3 basic\n",
    "\n",
    "Our research investigates the relationship between the urbanization rate of a country with its happiness index, among other measures such as GDP and life expectancy, in order to understand how different elements of urban living affect national happiness levels. By this, we hope to extend the work done by the *World Happiness Report* and look at how these relationships change with region and development level.\n",
    "\n",
    "---\n",
    "\n",
    "1. <a name=\"cite_note-1\"></a> World Happiness Report 2020. Urban-Rural Happiness Differentials across the World. https://happiness-report.s3.amazonaws.com/2020/WHR20_Ch4.pdf"
   ]
  },
  {
   "cell_type": "markdown",
   "metadata": {},
   "source": [
    "# Hypothesis\n"
   ]
  },
  {
   "cell_type": "markdown",
   "metadata": {},
   "source": [
    "We believe that there is a positive correlation between percent urbanization population of country and country hapiness index. The reasoning behind this is that urban areas usually offer better job opportunities, health care, education, and social amenities; therefore, more comfort in life. Higher urbanization could spur economic growth because a large population is often tied to increased productivity, innovation, and consumer demand in the ways described above that boost GDP. We also expect that countries with a larger urban population might exhibit both higher GDP and, therefore, a combined increase in happiness levels due to the additive effects since GDP is positively related to happiness."
   ]
  },
  {
   "cell_type": "markdown",
   "metadata": {},
   "source": [
    "# Data"
   ]
  },
  {
   "cell_type": "markdown",
   "metadata": {},
   "source": [
    "1. Ideally, the data would be based on a series of years regarding the percent urban population and the happiness index for each country. The variables to consider in the analyses would include the following.\n",
    "\n",
    "- Country-to identify each unique observation\n",
    "- Year-to observe time changes, seeing if changes in urbanization correlate with changes in happiness.\n",
    "- Urban Population Percentage-the total of a country's population living in urban areas within the yearly basis.\n",
    "- Happiness Index: A standardized happiness score/index for each country on a yearly basis.\n",
    "- GDP per Capita: Since economic development can be an intervening variable between urbanization and happiness.\n",
    "- Life Expectancy: To control for general health and standards of living that could affect the level of happiness.\n",
    "- Type of Government: Categorical for form of government, since governance affects both urbanization policies and well-being of the public.\n",
    "\n",
    "This would be a dataset that would, where possible, include annual data from at least the last 20 years to analyze the trends correctly. Such data will be obtained from the most reliable global surveys and databases such as the World Bank on urbanization and GDP, and the Gallup World Poll on happiness. It would be stored in a relational database structure, with Country and Year as unique keys, so each variable can - easily be queried and analyzed across time.\n",
    "\n",
    "2. Potential **real** datasets:\n",
    "- World Happiness Report: This database contains annual happiness scores for most countries, reflecting survey data on several elements that may be related both to urbanization and to economic conditions. Although this report does not have any data on urbanization as such, it provides detailed data on happiness over time.\n",
    "- World Bank Open Data: This is the dataset that provides data on the percentage of urban population, GDP per capita, and life expectancy for most countries. It best describes indicators matching these variables but may not actually include a direct happiness index.\n",
    "- United Nations Data: This provides data on urbanization and demographic data across time that could be used as a foundation to analyze the trends in population growth across urban areas. May not have direct measures of happiness and may need to link to the UN Data with happiness data from other sources."
   ]
  },
  {
   "cell_type": "markdown",
   "metadata": {},
   "source": [
    "# Ethics & Privacy"
   ]
  },
  {
   "cell_type": "markdown",
   "metadata": {},
   "source": [
    "We need to address the fact that if there is a positive correlation this is not causation. making mroe urban areas/moving to an urban area does not mean you/your citizens will be happier. We also need to consider whether the hapiness index is measured correctly and is not biased."
   ]
  },
  {
   "cell_type": "markdown",
   "metadata": {},
   "source": [
    "- Thoughtful discussion of ethical concerns included\n",
    "- Ethical concerns consider the whole data science process (question asked, data collected, data being used, the bias in data, analysis, post-analysis, etc.)\n",
    "- How your group handled bias/ethical concerns clearly described\n",
    "\n",
    "Acknowledge and address any ethics & privacy related issues of your question(s), proposed dataset(s), and/or analyses. Use the information provided in lecture to guide your group discussion and thinking. If you need further guidance, check out [Deon's Ethics Checklist](http://deon.drivendata.org/#data-science-ethics-checklist). In particular:\n",
    "\n",
    "- Are there any biases/privacy/terms of use issues with the data you propsed?\n",
    "- Are there potential biases in your dataset(s), in terms of who it composes, and how it was collected, that may be problematic in terms of it allowing for equitable analysis? (For example, does your data exclude particular populations, or is it likely to reflect particular human biases in a way that could be a problem?)\n",
    "- How will you set out to detect these specific biases before, during, and after/when communicating your analysis?\n",
    "- Are there any other issues related to your topic area, data, and/or analyses that are potentially problematic in terms of data privacy and equitable impact?\n",
    "- How will you handle issues you identified?"
   ]
  },
  {
   "cell_type": "markdown",
   "metadata": {},
   "source": [
    "# Team Expectations "
   ]
  },
  {
   "cell_type": "markdown",
   "metadata": {},
   "source": [
    "\n",
    "Read over the [COGS108 Team Policies](https://github.com/COGS108/Projects/blob/master/COGS108_TeamPolicies.md) individually. Then, include your group’s expectations of one another for successful completion of your COGS108 project below. Discuss and agree on what all of your expectations are. Discuss how your team will communicate throughout the quarter and consider how you will communicate respectfully should conflicts arise. By including each member’s name above and by adding their name to the submission, you are indicating that you have read the COGS108 Team Policies, accept your team’s expectations below, and have every intention to fulfill them. These expectations are for your team’s use and benefit — they won’t be graded for their details.\n",
    "\n",
    "* Schedule weekly meetings or more as needed that everyone attends unless someone has a conflict or health problem. Meetings will take place virtually or in-person but more often in person.\n",
    "* Team members will communicate thought text messages in the group chat created.\n",
    "* Decisions will come to an unanimous vote. This means if someone does not agree we either communicate our problems and come to an agreement or compromise and change our plans to fit everyones thoughts.\n",
    "* Work together during meetings and evenly divide up any remaining work together."
   ]
  },
  {
   "cell_type": "markdown",
   "metadata": {},
   "source": [
    "# Project Timeline Proposal"
   ]
  },
  {
   "cell_type": "markdown",
   "metadata": {},
   "source": [
    "Specify your team's specific project timeline. An example timeline has been provided. Changes the dates, times, names, and details to fit your group's plan.\n",
    "\n",
    "If you think you will need any special resources or training outside what we have covered in COGS 108 to solve your problem, then your proposal should state these clearly. For example, if you have selected a problem that involves implementing multiple neural networks, please state this so we can make sure you know what you’re doing and so we can point you to resources you will need to implement your project. Note that you are not required to use outside methods.\n",
    "\n",
    "\n",
    "\n",
    "| Meeting Date  | Meeting Time| Completed Before Meeting  | Discuss at Meeting |\n",
    "|---|---|---|---|\n",
    "| 1/20  |  1 PM | Read & Think about COGS 108 expectations; brainstorm topics/questions  | Determine best form of communication; Discuss and decide on final project topic; discuss hypothesis; begin background research | \n",
    "| 1/26  |  10 AM |  Do background research on topic | Discuss ideal dataset(s) and ethics; draft project proposal | \n",
    "| 2/1  | 10 AM  | Edit, finalize, and submit proposal; Search for datasets  | Discuss Wrangling and possible analytical approaches; Assign group members to lead each specific part   |\n",
    "| 2/14  | 6 PM  | Import & Wrangle Data (Ant Man); EDA (Hulk) | Review/Edit wrangling/EDA; Discuss Analysis Plan   |\n",
    "| 2/23  | 12 PM  | Finalize wrangling/EDA; Begin Analysis (Iron Man; Thor) | Discuss/edit Analysis; Complete project check-in |\n",
    "| 3/13  | 12 PM  | Complete analysis; Draft results/conclusion/discussion (Wasp)| Discuss/edit full project |\n",
    "| 3/20  | Before 11:59 PM  | NA | Turn in Final Project & Group Project Surveys |"
   ]
  }
 ],
 "metadata": {
  "kernelspec": {
   "display_name": "Python 3 (ipykernel)",
   "language": "python",
   "name": "python3"
  },
  "language_info": {
   "codemirror_mode": {
    "name": "ipython",
    "version": 3
   },
   "file_extension": ".py",
   "mimetype": "text/x-python",
   "name": "python",
   "nbconvert_exporter": "python",
   "pygments_lexer": "ipython3",
   "version": "3.9.7"
  }
 },
 "nbformat": 4,
 "nbformat_minor": 2
}
