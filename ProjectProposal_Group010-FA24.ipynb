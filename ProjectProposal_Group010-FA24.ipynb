{
 "cells": [
  {
   "cell_type": "markdown",
   "metadata": {},
   "source": [
    "# COGS 108 - Project Proposal"
   ]
  },
  {
   "cell_type": "markdown",
   "metadata": {},
   "source": [
    "# Names\n",
    "\n",
    "- Zoe Gaidmore\n",
    "- Abigail McLeod\n",
    "- Eshaan Sharma\n",
    "- Ryan Tjenalooi\n",
    "- Nora Zajzon"
   ]
  },
  {
   "cell_type": "markdown",
   "metadata": {},
   "source": [
    "# Research Question"
   ]
  },
  {
   "cell_type": "markdown",
   "metadata": {},
   "source": [
    "Our research question is: Is there a correlation between a country's percent urban population and their happiness level index measured by the World Happiness index? Could factors such as a country's GDP, types of government, and average life expectany, etc. correlate to its happiness levels? Is the happiness level of a country accurately measured by the World Happiness Index?"
   ]
  },
  {
   "cell_type": "markdown",
   "metadata": {},
   "source": [
    "## Background and Prior Work"
   ]
  },
  {
   "cell_type": "markdown",
   "metadata": {},
   "source": [
    "\n",
    "Urbanization, or the percent urban population, as we are researching, refers to how much of a country's population lives in an urban (city) area. We are using this as a measure of how urbanized a country is. A country's happiness level index is a 1 to 10 scale which measures how \"happy\" a country is, taking into account factors like life satisfaction, psychological well-being, health, community, and more.\n",
    "\n",
    "The idea of how a country's GDP can affect things such as quality of living has been researched extensively. More specific to our question is the idea of how living in urban, rurual, or suburban areas can affect someone's happiness. There has been much research around this already, pointing to the idea that people are more happy living in suburban \"sweet spots\" than they living in rural or urban areas<a name=\"cite_ref-1\"></a>[<sup>1</sup>](#cite_note-1). We are researching an intersection between these: rather than researching a country's GDP or something similar and comparing it to their happiness index score, we are researching how the urbanization of a country can correlate to the happiness index score of that country: do  more urbanized countries tend to be happier? Will it be similar to on an individual scale: if individuals are happier living in suburban areas, does that mean that moderately urbanized countries will be happiest? \n",
    "\n",
    "The World Happiness Report has been used a measure of determining the world's happiest countries by analzing six particular categories: gross domestic product (GDP) per capita, social support, healthy life expectancy, freedom to make life choices, generosity of the general population, and perceptions of internal and external corruption levels.<a name=\"cite_ref-2\"></a>[<sup>2</sup>](#cite_note-2) In recent years, researchers have investigated how urbanization, GDP, government types, and life expectancy correlate with happiness levels. Findings are still varied, however, with some studies showing positive correlations and others suggesting a complex lack of correlation. Findings from the report indicate that indeed, in many countries, happiness levels are higher in urban areas, but this trend is nuanced. For example, a comparison in the level of happiness between urban and rural populations in poorer regions, such as Sub-Saharan Africa, indicates higher levels of happiness among urban dwellers due to increased job opportunities and more service and infrastructural provisions, while some Western countries tend to show higher well-being indicators in rural areas due to less stress and closer communal bonding.\n",
    "\n",
    "In another study in 2020 conducted by the *European Commission* and *Gallup* analyzed the degree of urbanization's effect on happiness. This study asked 360,000 people across cities, towns, semi-dense areas, and rural areas of 117 countries to rate their lives on a scale from 0 to 10. The study found that on average, the percent of people in any country who gave their lives a score between 8 and 10 is 2-4% higher in cities than rural areas. The study recognizes that a variety of other factors could have contributed to this difference in happiness level between cities and rural areas. One of these factors they measured was access to financial resources. Differences in access to financial resources are most pronounced in low-income economies as the study found that 18% of rural residents reported having a bank account, while 30% of city residents reported having a bank account. Additionally, the study found that rural residents in lower-income economies were more likely than city residents to lack having enough money to buy food. Finally, the study measured support from frineds or relatives to help them in times of need. On average, the rural residents were less likely to report having support in times of need than city dwellers.<a name=\"cite_ref-3\"></a>[<sup>3</sup>](#cite_note-3) Overall, this study depicts how complex the idea of measuring happiness is as it cannot be narrowed down to a singular factor like degree of urbanization. \n",
    "\n",
    "Overall, while degree of urbanization may be a significant factor in determining the happiness level of people in a certain country, there are a variety of variables that contribute to determining the level of happiness for a population. Prior research suggests that happiness is a complex concept to measure, and variables such as GDP, government type, average life expectancy etc. can each play a role in the complexity of determining the happiness level for a country. Despite the amount of research done on this topic, determining if there is the correlation between a country's percent of urban population and their happiness level still remains to be answered. Furthermore, understanding the relationship that the aforementioned variables have with happiness level is an important aspect of this research topic to explore.\n",
    "\n",
    "1. <a name=\"cite_note-1\"></a> [^](#cite_ref-1)  Thompson, Dennis. \"City vs. Country vs. Suburbs: Who’s Happier?\" *U.S. News*, 23 July 2024, [https://www.usnews.com/news/health-news/articles/2024-07-23/city-vs-country-vs-suburbs-whos-happier#:~:text=TUESDAY%2C%20July%2023%2C%202024%20](https://www.usnews.com/news/health-news/articles/2024-07-23/city-vs-country-vs-suburbs-whos-happier#:~:text=TUESDAY%2C%20July%2023%2C%202024%20) \n",
    "2. <a name=\"cite_note-2\"></a> [^](#cite_ref-2) Happiest Countries in the World 2024. *World Population Review*. https://worldpopulationreview.com/country-rankings/happiest-countries-in-the-worldbirds-arent-real-gen-z-misinformation.html \n",
    "3. <a name=\"cite_note-3\"></a> [^](#cite_ref-3) Dijkstra, Lewis, et al. (13 Aug 2021) The Degree of Urbanisation's Effect on Happiness. *Gallup*. https://news.gallup.com/opinion/gallup/315857/degree-urbanisation-effect-happiness.aspx#:~:text=The%20average%20levels%20of%20happiness,via%20the%20Gallup%20World%20Poll."
   ]
  },
  {
   "cell_type": "markdown",
   "metadata": {},
   "source": [
    "# Hypothesis\n"
   ]
  },
  {
   "cell_type": "markdown",
   "metadata": {},
   "source": [
    "We believe that there is a positive correlation between percent urbanization population of country and country hapiness index. The reasoning behind this is that urban areas usually offer better job opportunities, health care, education, and social amenities; therefore, more comfort in life. Higher urbanization could spur economic growth because a large population is often tied to increased productivity, innovation, and consumer demand in the ways described above that boost GDP. We also expect that countries with a larger urban population might exhibit both higher GDP and, therefore, a combined increase in happiness levels due to the additive effects since GDP is positively related to happiness."
   ]
  },
  {
   "cell_type": "markdown",
   "metadata": {},
   "source": [
    "# Data"
   ]
  },
  {
   "cell_type": "markdown",
   "metadata": {},
   "source": [
    "1. Ideally, the data would be based on a series of years regarding the percent urban population and the happiness index for each country. The variables to consider in the analyses would include the following.\n",
    "\n",
    "- Country-to identify each unique observation\n",
    "- Year-to observe time changes, seeing if changes in urbanization correlate with changes in happiness.\n",
    "- Urban Population Percentage-the total of a country's population living in urban areas within the yearly basis.\n",
    "- Happiness Index: A standardized happiness score/index for each country on a yearly basis.\n",
    "- GDP per Capita: Since economic development can be an intervening variable between urbanization and happiness.\n",
    "- Life Expectancy: To control for general health and standards of living that could affect the level of happiness.\n",
    "- Type of Government: Categorical for form of government, since governance affects both urbanization policies and well-being of the public.\n",
    "\n",
    "This would be a dataset that would, where possible, include annual data from at least the last 20 years to analyze the trends correctly. Such data will be obtained from the most reliable global surveys and databases such as the World Bank on urbanization and GDP, and the Gallup World Poll on happiness. It would be stored in a relational database structure, with Country and Year as unique keys, so each variable can - easily be queried and analyzed across time.\n",
    "\n",
    "2. Potential **real** datasets:\n",
    "-  **World Happiness Report**: https://worldhappiness.report/: This database contains annual happiness scores for most countries, reflecting survey data on several elements that may be related both to urbanization and to economic conditions. Although this report does not have any data on urbanization as such, it provides detailed data on happiness over time.\n",
    "- **World Bank Open Data**: https://data.worldbank.org: This is the dataset that provides data on the percentage of urban population, GDP per capita, and life expectancy for most countries. It best describes indicators matching these variables but may not actually include a direct happiness index.\n",
    "- United Nations Data: This provides data on urbanization and demographic data across time that could be used as a foundation to analyze the trends in population growth across urban areas. May not have direct measures of happiness and may need to link to the UN Data with happiness data from other sources."
   ]
  },
  {
   "cell_type": "markdown",
   "metadata": {},
   "source": [
    "# Ethics & Privacy"
   ]
  },
  {
   "cell_type": "markdown",
   "metadata": {},
   "source": [
    "We need to address the fact that if there is a positive correlation this is not causation. making mroe urban areas/moving to an urban area does not mean you/your citizens will be happier. We also need to consider whether the hapiness index is measured correctly and is not biased."
   ]
  },
  {
   "cell_type": "markdown",
   "metadata": {},
   "source": [
    "- Thoughtful discussion of ethical concerns included\n",
    "- Ethical concerns consider the whole data science process (question asked, data collected, data being used, the bias in data, analysis, post-analysis, etc.)\n",
    "- How your group handled bias/ethical concerns clearly described\n",
    "\n",
    "Acknowledge and address any ethics & privacy related issues of your question(s), proposed dataset(s), and/or analyses. Use the information provided in lecture to guide your group discussion and thinking. If you need further guidance, check out [Deon's Ethics Checklist](http://deon.drivendata.org/#data-science-ethics-checklist). In particular:\n",
    "\n",
    "- Are there any biases/privacy/terms of use issues with the data you propsed?\n",
    "- Are there potential biases in your dataset(s), in terms of who it composes, and how it was collected, that may be problematic in terms of it allowing for equitable analysis? (For example, does your data exclude particular populations, or is it likely to reflect particular human biases in a way that could be a problem?)\n",
    "- How will you set out to detect these specific biases before, during, and after/when communicating your analysis?\n",
    "- Are there any other issues related to your topic area, data, and/or analyses that are potentially problematic in terms of data privacy and equitable impact?\n",
    "- How will you handle issues you identified?"
   ]
  },
  {
   "cell_type": "markdown",
   "metadata": {},
   "source": [
    "# Team Expectations "
   ]
  },
  {
   "cell_type": "markdown",
   "metadata": {},
   "source": [
    "\n",
    "Read over the [COGS108 Team Policies](https://github.com/COGS108/Projects/blob/master/COGS108_TeamPolicies.md) individually. Then, include your group’s expectations of one another for successful completion of your COGS108 project below. Discuss and agree on what all of your expectations are. Discuss how your team will communicate throughout the quarter and consider how you will communicate respectfully should conflicts arise. By including each member’s name above and by adding their name to the submission, you are indicating that you have read the COGS108 Team Policies, accept your team’s expectations below, and have every intention to fulfill them. These expectations are for your team’s use and benefit — they won’t be graded for their details.\n",
    "\n",
    "* Schedule weekly meetings or more as needed that everyone attends unless someone has a conflict or health problem. Meetings will take place virtually or in-person but more often in person.\n",
    "* Team members will communicate thought text messages in the group chat created.\n",
    "* Decisions will come to an unanimous vote. This means if someone does not agree we either communicate our problems and come to an agreement or compromise and change our plans to fit everyones thoughts.\n",
    "* Work together during meetings and evenly divide up any remaining work together."
   ]
  },
  {
   "cell_type": "markdown",
   "metadata": {},
   "source": [
    "# Project Timeline Proposal"
   ]
  },
  {
   "cell_type": "markdown",
   "metadata": {},
   "source": [
    "Specify your team's specific project timeline. An example timeline has been provided. Changes the dates, times, names, and details to fit your group's plan.\n",
    "\n",
    "If you think you will need any special resources or training outside what we have covered in COGS 108 to solve your problem, then your proposal should state these clearly. For example, if you have selected a problem that involves implementing multiple neural networks, please state this so we can make sure you know what you’re doing and so we can point you to resources you will need to implement your project. Note that you are not required to use outside methods.\n",
    "\n",
    "\n",
    "\n",
    "| Meeting Date  | Meeting Time| Completed Before Meeting  | Discuss at Meeting |\n",
    "|---|---|---|---|\n",
    "| 1/20  |  1 PM | Read & Think about COGS 108 expectations; brainstorm topics/questions  | Determine best form of communication; Discuss and decide on final project topic; discuss hypothesis; begin background research | \n",
    "| 1/26  |  10 AM |  Do background research on topic | Discuss ideal dataset(s) and ethics; draft project proposal | \n",
    "| 2/1  | 10 AM  | Edit, finalize, and submit proposal; Search for datasets  | Discuss Wrangling and possible analytical approaches; Assign group members to lead each specific part   |\n",
    "| 2/14  | 6 PM  | Import & Wrangle Data (Ant Man); EDA (Hulk) | Review/Edit wrangling/EDA; Discuss Analysis Plan   |\n",
    "| 2/23  | 12 PM  | Finalize wrangling/EDA; Begin Analysis (Iron Man; Thor) | Discuss/edit Analysis; Complete project check-in |\n",
    "| 3/13  | 12 PM  | Complete analysis; Draft results/conclusion/discussion (Wasp)| Discuss/edit full project |\n",
    "| 3/20  | Before 11:59 PM  | NA | Turn in Final Project & Group Project Surveys |"
   ]
  }
 ],
 "metadata": {
  "kernelspec": {
   "display_name": "Python 3 (ipykernel)",
   "language": "python",
   "name": "python3"
  },
  "language_info": {
   "codemirror_mode": {
    "name": "ipython",
    "version": 3
   },
   "file_extension": ".py",
   "mimetype": "text/x-python",
   "name": "python",
   "nbconvert_exporter": "python",
   "pygments_lexer": "ipython3",
   "version": "3.9.7"
  }
 },
 "nbformat": 4,
 "nbformat_minor": 2
}
