{
 "cells": [
  {
   "cell_type": "markdown",
   "metadata": {},
   "source": [
    "# COGS 108 - Project Proposal"
   ]
  },
  {
   "cell_type": "markdown",
   "metadata": {},
   "source": [
    "# Names\n",
    "\n",
    "- Zoe Gaidmore\n",
    "- Abigail McLeod\n",
    "- Eshaan Sharma\n",
    "- Ryan Tjenalooi\n",
    "- Nora Zajzon"
   ]
  },
  {
   "cell_type": "markdown",
   "metadata": {},
   "source": [
    "# Research Question"
   ]
  },
  {
   "cell_type": "markdown",
   "metadata": {},
   "source": [
    "Our research question is: Is there a correlation between a country's percent urban population and their happiness level index measured by the World Happiness index? Could factors such as a country's GDP, types of government, and average life expectany, etc. correlate to its happiness levels? Is the happiness level of a country accurately measured by the World Happiness Index?"
   ]
  },
  {
   "cell_type": "markdown",
   "metadata": {},
   "source": [
    "## Background and Prior Work"
   ]
  },
  {
   "cell_type": "markdown",
   "metadata": {},
   "source": [
    "Urbanization, or the percent urban population, refers to how much of a country's population lives in an urban (city) area. We are using this as a measure of how urbanized a country is. A country's happiness level index is a 1 to 10 scale which measures how \"happy\" a country is, taking into account factors like life satisfaction, psychological well-being, health, community, and more.\n",
    "\n",
    "The World Happiness Report has been used as a measure of determining the world's happiest countries by analzing six particular categories: gross domestic product (GDP) per capita, social support, healthy life expectancy, freedom to make life choices, generosity of the general population, and perceptions of internal and external corruption levels.<a name=\"cite_ref-1\"></a>[<sup>1</sup>](#cite_note-1) In recent years, researchers have investigated how urbanization, GDP, government types, and life expectancy correlate with happiness levels. Findings are still varied, however, with some studies showing positive correlations and others suggesting a complex lack of correlation. Findings from the report indicate that indeed, in many countries, happiness levels are higher in urban areas, but this trend is nuanced. For example, a comparison in the level of happiness between urban and rural populations in poorer regions, such as Sub-Saharan Africa, indicates higher levels of happiness among urban dwellers due to increased job opportunities and more service and infrastructural provisions, while some Western countries tend to show higher well-being indicators in rural areas due to less stress and closer communal bonding.\n",
    "\n",
    "The idea of how a country's GDP can affect things such as quality of living has been researched extensively. More specific to our question is the idea of how living in urban, rurual, or suburban areas can affect someone's happiness. There has been much research around this already, pointing to the idea that people are more happy living in suburban \"sweet spots\" than they living in rural or urban areas<a name=\"cite_ref-2\"></a>[<sup>2</sup>](#cite_note-2). We are researching an intersection between these: rather than researching a country's GDP or something similar and comparing it to their happiness index score, we are researching how the urbanization of a country can correlate to the happiness index score of that country: do  more urbanized countries tend to be happier? Will it be similar to on an individual scale: if individuals are happier living in suburban areas, does that mean that moderately urbanized countries will be happiest? \n",
    "\n",
    "In another study in 2020 conducted by the *European Commission* and *Gallup* analyzed the degree of urbanization's effect on happiness. This study asked 360,000 people across cities, towns, semi-dense areas, and rural areas of 117 countries to rate their lives on a scale from 0 to 10. The study found that on average, the percent of people in any country who gave their lives a score between 8 and 10 is 2-4% higher in cities than rural areas. The study recognizes that a variety of other factors could have contributed to this difference in happiness level between cities and rural areas. One of these factors they measured was access to financial resources. Differences in access to financial resources are most pronounced in low-income economies as the study found that 18% of rural residents reported having a bank account, while 30% of city residents reported having a bank account. Additionally, the study found that rural residents in lower-income economies were more likely than city residents to lack having enough money to buy food. Finally, the study measured support from frineds or relatives to help them in times of need. On average, the rural residents were less likely to report having support in times of need than city dwellers.<a name=\"cite_ref-3\"></a>[<sup>3</sup>](#cite_note-3) Overall, this study depicts how complex the idea of measuring happiness is as it cannot be narrowed down to a singular factor like degree of urbanization. \n",
    "\n",
    "One key factor in the changing of happiness levels is the amount of greenery sustained during the changing from rural environments to urban environments. As urban population increases, access to green spaces and quality of ecosystems decrease, making this a topic of concern among urban planners. Jorge E. Patino studied one of the most urbanized regions in the world, Latin America and the Caribbean, where his discovered a positive correlation between access to urban green spaces and happiness levels in urban areas <a name=\"cite_ref-4\"></a>[<sup>4</sup>](#cite_note-4). There are however several other factors that need to be considered when studying the effects of urban green spaces and happiness levels. Patino also notes that in some cities, those with higher socioeconomic status access to better quality urban green spaces, which suggests that socioeconomic status could be a confounding variable that must be studied further. Additionally, he found that reports of happiness tended to be higher the older the respondant was. We want to discover exactly what factors, such as access to green spaces, are effected by urbanization, and how these factors contribute to happiness levels in urban populations. \n",
    "\n",
    "Overall, while degree of urbanization may be a significant factor in determining the happiness level of people in a certain country, there are a variety of variables that contribute to determining the level of happiness for a population. Prior research suggests that happiness is a complex concept to measure, and variables such as GDP, government type, average life expectancy etc. can each play a role in the complexity of determining the happiness level for a country. Despite the amount of research done on this topic, determining if there is the correlation between a country's percent of urban population and their happiness level still remains to be answered. Furthermore, understanding the relationship that the aforementioned variables have with happiness level is an important aspect of this research topic to explore.\n",
    "\n",
    "\n",
    "1. <a name=\"cite_note-1\"></a> [^](#cite_ref-1) Happiest Countries in the World 2024. *World Population Review*. https://worldpopulationreview.com/country-rankings/happiest-countries-in-the-worldbirds-arent-real-gen-z-misinformation.html \n",
    "2. <a name=\"cite_note-2\"></a> [^](#cite_ref-2)  Thompson, Dennis. \"City vs. Country vs. Suburbs: Who’s Happier?\" *U.S. News*, 23 July 2024, [https://www.usnews.com/news/health-news/articles/2024-07-23/city-vs-country-vs-suburbs-whos-happier#:~:text=TUESDAY%2C%20July%2023%2C%202024%20](https://www.usnews.com/news/health-news/articles/2024-07-23/city-vs-country-vs-suburbs-whos-happier#:~:text=TUESDAY%2C%20July%2023%2C%202024%20) \n",
    "3. <a name=\"cite_note-3\"></a> [^](#cite_ref-3) Dijkstra, Lewis, et al. (13 Aug 2021) The Degree of Urbanisation's Effect on Happiness. *Gallup*. https://news.gallup.com/opinion/gallup/315857/degree-urbanisation-effect-happiness.aspx#:~:text=The%20average%20levels%20of%20happiness,via%20the%20Gallup%20World%20Poll.\n",
    "4. <a name=\"cite_note-4\"></a> [^](#cite_ref-4) Jorge E. Patino, Lina Martinez, Isabella Valencia, Juan C. Duque, Happiness, life satisfaction, and the greenness of urban surroundings,Landscape and Urban Planning, Volume 237, 2023, 104811, ISSN 0169-2046, https://doi.org/10.1016/j.landurbplan.2023.104811. "
   ]
  },
  {
   "cell_type": "markdown",
   "metadata": {},
   "source": [
    "# Hypothesis\n"
   ]
  },
  {
   "cell_type": "markdown",
   "metadata": {},
   "source": [
    "We believe that there is a positive correlation between percent urbanization population of country and country hapiness index. The reasoning behind this is that urban areas usually offer better job opportunities, health care, education, and social amenities; therefore, more comfort in life. Higher urbanization could spur economic growth because a large population is often tied to increased productivity, innovation, and consumer demand in the ways described above that boost GDP. Moreover, we hypothesize that factors like higher GDP per capita, democratic goverments, and higher average life expectancy will be positively correlated with happiness levels, as these variables typically allow for improved living conditions, robust social services, greater life quality, and increased personal stability."
   ]
  },
  {
   "cell_type": "markdown",
   "metadata": {},
   "source": [
    "# Data"
   ]
  },
  {
   "cell_type": "markdown",
   "metadata": {},
   "source": [
    "1. Ideally, the data would be based on a series of years regarding the percent urban population and the happiness index for each country. The variables to consider in the analyses would include the following.\n",
    "\n",
    "- Country-to identify each unique observation\n",
    "- Year-to observe time changes, seeing if changes in urbanization correlate with changes in happiness.\n",
    "- Urban Population Percentage-the total of a country's population living in urban areas within the yearly basis.\n",
    "- Happiness Index: A standardized happiness score/index for each country on a yearly basis.\n",
    "- GDP per Capita: Since economic development can be an intervening variable between urbanization and happiness.\n",
    "- Life Expectancy: To control for general health and standards of living that could affect the level of happiness.\n",
    "- Type of Government: Categorical for form of government, since governance affects both urbanization policies and well-being of the public.\n",
    "\n",
    "This would be a dataset that would, where possible, include annual data from at least the last 20 years to analyze the trends correctly. Such data will be obtained from the most reliable global surveys and databases such as the World Bank on urbanization and GDP, and the Gallup World Poll on happiness. It would be stored in a relational database structure, with Country and Year as unique keys, so each variable can - easily be queried and analyzed across time.\n",
    "\n",
    "2. Potential **real** datasets:\n",
    "-  **World Happiness Report**: https://worldhappiness.report/: This database contains annual happiness scores for most countries, reflecting survey data on several elements that may be related both to urbanization and to economic conditions. Although this report does not have any data on urbanization as such, it provides detailed data on happiness over time.\n",
    "- **World Bank Open Data**: https://data.worldbank.org: This is the dataset that provides data on the percentage of urban population, GDP per capita, and life expectancy for most countries. It best describes indicators matching these variables but may not actually include a direct happiness index.\n",
    "- United Nations Data: This provides data on urbanization and demographic data across time that could be used as a foundation to analyze the trends in population growth across urban areas. May not have direct measures of happiness and may need to link to the UN Data with happiness data from other sources."
   ]
  },
  {
   "cell_type": "markdown",
   "metadata": {},
   "source": [
    "# Ethics & Privacy"
   ]
  },
  {
   "cell_type": "markdown",
   "metadata": {},
   "source": [
    "We need to address the fact that if there is a positive correlation this is not causation. Making more urban areas or moving to an urban area does not mean you/your citizens will be happier. \n",
    "In considering the ethical and privacy-related aspects of our analysis, we believe that the data we used is unbiased and respects privacy. Our primary sources include the World Happiness Report, World Bank, etc., which are reputable and widely-cites resources that offer open access to data. Additionally, all data is collected at the national or regional level, ensuring that privacy of individuals is protected as no personal data is used.<br>\n",
    "\n",
    "However, measuring complex variables like happiness is a difficult task as reports like The World Happiness Report relies on subjective survey responses and includes a limited range of factors that may not capture the full depth of variables contributing to happiness. This culd lead to biases or misreports on how happiness is rated. Similarly, measurements like GDP per capita and life expectancy may depict values that do not account for the true well-being of people in a certain society, region, or environment. Additionally, variables like government type may not fully capture the difference of political systems in different countries as some forms of government may not fit into a specified category. We recognize that these measures may not fully address the complexities of variables we measure in this research project.<br>\n",
    "\n",
    "Despite these limitations and constraints, we chose datasets that are widely-used and accepted. We are aware that are research may not provide a definitiv method of measuring the correlation between a country's percent of urban population and its happiness levels. While we aim to explore the potential relationship between these variables, we recognize that happiness and well-being is complex and can be influenced by a wide range of variables. Therefore, we explore a variety of additional variables and their relationship to happiness levels in addition to a country's urban population percentage. Our findings should be interpreted as a initial exploration rather than a comprehensive and definitive measure of happiness."
   ]
  },
  {
   "cell_type": "markdown",
   "metadata": {},
   "source": [
    "# Team Expectations "
   ]
  },
  {
   "cell_type": "markdown",
   "metadata": {},
   "source": [
    "* Schedule weekly meetings or more as needed that everyone attends unless someone has a conflict or health problem. Meetings will take place virtually or in-person but more often in person.\n",
    "* Team members will communicate thought text messages in the group chat created.\n",
    "* Decisions will come to an unanimous vote. This means if someone does not agree we either communicate our problems and come to an agreement or compromise and change our plans to fit everyones thoughts.\n",
    "* Work together during meetings and evenly divide up any remaining work together."
   ]
  },
  {
   "cell_type": "markdown",
   "metadata": {},
   "source": [
    "# Project Timeline Proposal"
   ]
  },
  {
   "cell_type": "markdown",
   "metadata": {},
   "source": [
    "| Meeting Date | Meeting Time | Completed Before Meeting | Discuss at Meeting |\n",
    "|--------------|--------------|--------------------------|---------------------|\n",
    "| 10/30        | 2 PM         | Finalize project proposal | Discuss project proposal and ensure all components are ready for submission |\n",
    "| 11/6 (Wednesday) | Due by end of day | NA                      | Finalize work, check-in for due date |\n",
    "| 11/7 (Thursday)  | 2 PM         | Background research on topic | Check in with team members; discuss ideal datasets and ethical considerations; draft project proposal |\n",
    "| 11/13 (Wednesday) | Due by end of day | NA                    | Finalize work, check-in for due date |\n",
    "| 11/14 (Thursday) | 2 PM         | Edit, finalize, and submit proposal; search for datasets | Check in with team members; discuss wrangling and analytical approaches; assign roles for each project component |\n",
    "| 11/20 (Wednesday) | Due by end of day | NA                    | Finalize work, check-in for due date |\n",
    "| 11/21 (Thursday) | 2 PM         | Begin data wrangling and EDA | Check in with team members; review initial data wrangling and exploratory data analysis (EDA); discuss analysis plan |\n",
    "| 11/27 (Wednesday) | Due by end of day | NA                    | Finalize work, check-in for due date |\n",
    "| 11/28 (Thursday) | 2 PM         | Continue wrangling and EDA; start analysis | Check in with team members; review/edit analysis progress; prepare for project check-in |\n",
    "| 12/4 (Wednesday) | Due by end of day | NA                    | Finalize work, check-in for due date |\n",
    "| 12/5 (Thursday)  | 2 PM         | Complete analysis; draft results/conclusion | Check in with team members; review/edit the entire project; finalize all components for submission |\n",
    "| 12/11 (Wednesday) | Before 11:59 PM | NA                     | Submit Final Project & Group Project Surveys |\n"
   ]
  }
 ],
 "metadata": {
  "kernelspec": {
   "display_name": "Python 3 (ipykernel)",
   "language": "python",
   "name": "python3"
  },
  "language_info": {
   "codemirror_mode": {
    "name": "ipython",
    "version": 3
   },
   "file_extension": ".py",
   "mimetype": "text/x-python",
   "name": "python",
   "nbconvert_exporter": "python",
   "pygments_lexer": "ipython3",
   "version": "3.9.7"
  }
 },
 "nbformat": 4,
 "nbformat_minor": 2
}
